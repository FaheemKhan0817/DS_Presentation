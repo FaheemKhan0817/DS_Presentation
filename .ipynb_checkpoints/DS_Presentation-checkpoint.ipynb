{
 "cells": [
  {
   "cell_type": "markdown",
   "id": "7840cd5e-5064-4b71-965d-442b6b4372d2",
   "metadata": {},
   "source": [
    "<div style=\"text-align: center; font-size: 30px; background-color: #3366ff; color: white; padding: 10px;\">Healthcare Data Analysis</div>\n",
    "\r\n",
    "<table style=\"width: 70%; height: 50%; text-align: center; font-size: 18px;\">\r\n",
    "  <tr>\r\n",
    "    <td colspan=\"2\"><strong>Under The Guidance:</strong> Geeta Pattun Ma'am</td>\r\n",
    "  </tr>\r\n",
    "  <tr>\r\n",
    "    <td><strong>Name:</strong></td>\r\n",
    "    <td>Danish Kamal</td>\r\n",
    "  </tr>\r\n",
    "  <tr>\r\n",
    "    <td><strong>Roll No:</strong></td>\r\n",
    "    <td>22MMCA005HY</td>\r\n",
    "  </tr>\r\n",
    "  <tr>\r\n",
    "    <td><strong>Department:</strong></td>\r\n",
    "    <td>CS&IT, MANUU. Hyd</td>\r\n",
    "  </tr>\r\n",
    "</table>\r\n",
    "  </tr>\r\n",
    "</table>\r\n"
   ]
  },
  {
   "cell_type": "markdown",
   "id": "f349b1c0-945a-4bb7-8dcd-dfd7e74b8b32",
   "metadata": {},
   "source": [
    "When conducting data analysis in Python, the following libraries are commonly used:\n",
    "\n",
    "- **Pandas**: This library is crucial for data manipulation and analysis. It offers powerful data structures like DataFrames, enabling easy handling of tabular data, data cleaning, and exploration.\n",
    "\n",
    "- **NumPy**: It provides support for large, multi-dimensional arrays and matrices, along with a collection of mathematical functions to operate on these arrays. NumPy is fundamental for numerical computations and data manipulation in Python.\n",
    "\n",
    "- **Matplotlib**: As a versatile plotting library, Matplotlib is used to create visualizations like line plots, histograms, scatter plots, etc. It allows for graphical representation of the data, aiding in data exploration and presentation.\n",
    "\n",
    "The combined use of Pandas, NumPy, and Matplotlib forms a strong foundation for data analysis, offering tools for data handling, numerical operations, and visualizations, contributing to a comprehensive understanding and presentation of data insights in Python.\n"
   ]
  },
  {
   "cell_type": "markdown",
   "id": "d10e624d-7903-4e5c-8447-44ef113d8111",
   "metadata": {},
   "source": [
    "### Importing libraries like `pandas`, `numpy` and `matplotlib`.\n",
    "Imported Pandas as `pd` for data manipulation and Matplotlib as `plt` for data visualization."
   ]
  },
  {
   "cell_type": "code",
   "execution_count": 99,
   "id": "7212cc3d-c800-4d97-85f3-e99afa9cdf61",
   "metadata": {},
   "outputs": [],
   "source": [
    "import pandas as pd\n",
    "import numpy as np\n",
    "import matplotlib.pyplot as plt\n",
    "import seaborn as sns"
   ]
  },
  {
   "cell_type": "markdown",
   "id": "e55d1b76-e618-457b-a1cc-4b464dccb6ca",
   "metadata": {},
   "source": [
    "### Data Loading and Inspection\n",
    "`read_csv` is inbuilt function in python for read dataset in the form of csv."
   ]
  },
  {
   "cell_type": "code",
   "execution_count": 49,
   "id": "930d4ce6-b49c-4cdb-9c51-3a99bfe45cfd",
   "metadata": {},
   "outputs": [],
   "source": [
    "file_path = 'healthcare_dataset.csv'\n",
    "df = pd.read_csv(file_path)"
   ]
  },
  {
   "cell_type": "markdown",
   "id": "eda1ad5f-380d-41f7-9b61-8672d42672f6",
   "metadata": {},
   "source": [
    "### Display the first 5 rows of the DataFrame"
   ]
  },
  {
   "cell_type": "code",
   "execution_count": 50,
   "id": "5b312d50-d60a-4fa5-a2bd-0edc84969a2b",
   "metadata": {},
   "outputs": [
    {
     "data": {
      "text/html": [
       "<div>\n",
       "<style scoped>\n",
       "    .dataframe tbody tr th:only-of-type {\n",
       "        vertical-align: middle;\n",
       "    }\n",
       "\n",
       "    .dataframe tbody tr th {\n",
       "        vertical-align: top;\n",
       "    }\n",
       "\n",
       "    .dataframe thead th {\n",
       "        text-align: right;\n",
       "    }\n",
       "</style>\n",
       "<table border=\"1\" class=\"dataframe\">\n",
       "  <thead>\n",
       "    <tr style=\"text-align: right;\">\n",
       "      <th></th>\n",
       "      <th>Name</th>\n",
       "      <th>Age</th>\n",
       "      <th>Gender</th>\n",
       "      <th>Blood Type</th>\n",
       "      <th>Medical Condition</th>\n",
       "      <th>Date of Admission</th>\n",
       "      <th>Doctor</th>\n",
       "      <th>Hospital</th>\n",
       "      <th>Insurance Provider</th>\n",
       "      <th>Billing Amount</th>\n",
       "      <th>Room Number</th>\n",
       "      <th>Admission Type</th>\n",
       "      <th>Discharge Date</th>\n",
       "      <th>Medication</th>\n",
       "      <th>Test Results</th>\n",
       "    </tr>\n",
       "  </thead>\n",
       "  <tbody>\n",
       "    <tr>\n",
       "      <th>0</th>\n",
       "      <td>Tiffany Ramirez</td>\n",
       "      <td>81</td>\n",
       "      <td>Female</td>\n",
       "      <td>O-</td>\n",
       "      <td>Diabetes</td>\n",
       "      <td>2022-11-17</td>\n",
       "      <td>Patrick Parker</td>\n",
       "      <td>Wallace-Hamilton</td>\n",
       "      <td>Medicare</td>\n",
       "      <td>37490.983364</td>\n",
       "      <td>146</td>\n",
       "      <td>Elective</td>\n",
       "      <td>2022-12-01</td>\n",
       "      <td>Aspirin</td>\n",
       "      <td>Inconclusive</td>\n",
       "    </tr>\n",
       "    <tr>\n",
       "      <th>1</th>\n",
       "      <td>Ruben Burns</td>\n",
       "      <td>35</td>\n",
       "      <td>Male</td>\n",
       "      <td>O+</td>\n",
       "      <td>Asthma</td>\n",
       "      <td>2023-06-01</td>\n",
       "      <td>Diane Jackson</td>\n",
       "      <td>Burke, Griffin and Cooper</td>\n",
       "      <td>UnitedHealthcare</td>\n",
       "      <td>47304.064845</td>\n",
       "      <td>404</td>\n",
       "      <td>Emergency</td>\n",
       "      <td>2023-06-15</td>\n",
       "      <td>Lipitor</td>\n",
       "      <td>Normal</td>\n",
       "    </tr>\n",
       "    <tr>\n",
       "      <th>2</th>\n",
       "      <td>Chad Byrd</td>\n",
       "      <td>61</td>\n",
       "      <td>Male</td>\n",
       "      <td>B-</td>\n",
       "      <td>Obesity</td>\n",
       "      <td>2019-01-09</td>\n",
       "      <td>Paul Baker</td>\n",
       "      <td>Walton LLC</td>\n",
       "      <td>Medicare</td>\n",
       "      <td>36874.896997</td>\n",
       "      <td>292</td>\n",
       "      <td>Emergency</td>\n",
       "      <td>2019-02-08</td>\n",
       "      <td>Lipitor</td>\n",
       "      <td>Normal</td>\n",
       "    </tr>\n",
       "    <tr>\n",
       "      <th>3</th>\n",
       "      <td>Antonio Frederick</td>\n",
       "      <td>49</td>\n",
       "      <td>Male</td>\n",
       "      <td>B-</td>\n",
       "      <td>Asthma</td>\n",
       "      <td>2020-05-02</td>\n",
       "      <td>Brian Chandler</td>\n",
       "      <td>Garcia Ltd</td>\n",
       "      <td>Medicare</td>\n",
       "      <td>23303.322092</td>\n",
       "      <td>480</td>\n",
       "      <td>Urgent</td>\n",
       "      <td>2020-05-03</td>\n",
       "      <td>Penicillin</td>\n",
       "      <td>Abnormal</td>\n",
       "    </tr>\n",
       "    <tr>\n",
       "      <th>4</th>\n",
       "      <td>Mrs. Brandy Flowers</td>\n",
       "      <td>51</td>\n",
       "      <td>Male</td>\n",
       "      <td>O-</td>\n",
       "      <td>Arthritis</td>\n",
       "      <td>2021-07-09</td>\n",
       "      <td>Dustin Griffin</td>\n",
       "      <td>Jones, Brown and Murray</td>\n",
       "      <td>UnitedHealthcare</td>\n",
       "      <td>18086.344184</td>\n",
       "      <td>477</td>\n",
       "      <td>Urgent</td>\n",
       "      <td>2021-08-02</td>\n",
       "      <td>Paracetamol</td>\n",
       "      <td>Normal</td>\n",
       "    </tr>\n",
       "  </tbody>\n",
       "</table>\n",
       "</div>"
      ],
      "text/plain": [
       "                  Name  Age  Gender Blood Type Medical Condition  \\\n",
       "0      Tiffany Ramirez   81  Female         O-          Diabetes   \n",
       "1          Ruben Burns   35    Male         O+            Asthma   \n",
       "2            Chad Byrd   61    Male         B-           Obesity   \n",
       "3    Antonio Frederick   49    Male         B-            Asthma   \n",
       "4  Mrs. Brandy Flowers   51    Male         O-         Arthritis   \n",
       "\n",
       "  Date of Admission          Doctor                   Hospital  \\\n",
       "0        2022-11-17  Patrick Parker           Wallace-Hamilton   \n",
       "1        2023-06-01   Diane Jackson  Burke, Griffin and Cooper   \n",
       "2        2019-01-09      Paul Baker                 Walton LLC   \n",
       "3        2020-05-02  Brian Chandler                 Garcia Ltd   \n",
       "4        2021-07-09  Dustin Griffin    Jones, Brown and Murray   \n",
       "\n",
       "  Insurance Provider  Billing Amount  Room Number Admission Type  \\\n",
       "0           Medicare    37490.983364          146       Elective   \n",
       "1   UnitedHealthcare    47304.064845          404      Emergency   \n",
       "2           Medicare    36874.896997          292      Emergency   \n",
       "3           Medicare    23303.322092          480         Urgent   \n",
       "4   UnitedHealthcare    18086.344184          477         Urgent   \n",
       "\n",
       "  Discharge Date   Medication  Test Results  \n",
       "0     2022-12-01      Aspirin  Inconclusive  \n",
       "1     2023-06-15      Lipitor        Normal  \n",
       "2     2019-02-08      Lipitor        Normal  \n",
       "3     2020-05-03   Penicillin      Abnormal  \n",
       "4     2021-08-02  Paracetamol        Normal  "
      ]
     },
     "execution_count": 50,
     "metadata": {},
     "output_type": "execute_result"
    }
   ],
   "source": [
    "df.head()"
   ]
  },
  {
   "cell_type": "markdown",
   "id": "880e204e-ebc7-47c1-a1b3-ac94c12376ae",
   "metadata": {},
   "source": [
    "### Display the last 5 rows of the DataFrame"
   ]
  },
  {
   "cell_type": "code",
   "execution_count": 51,
   "id": "7d772448-2a22-41c5-b160-0f965e2a20f8",
   "metadata": {},
   "outputs": [
    {
     "data": {
      "text/html": [
       "<div>\n",
       "<style scoped>\n",
       "    .dataframe tbody tr th:only-of-type {\n",
       "        vertical-align: middle;\n",
       "    }\n",
       "\n",
       "    .dataframe tbody tr th {\n",
       "        vertical-align: top;\n",
       "    }\n",
       "\n",
       "    .dataframe thead th {\n",
       "        text-align: right;\n",
       "    }\n",
       "</style>\n",
       "<table border=\"1\" class=\"dataframe\">\n",
       "  <thead>\n",
       "    <tr style=\"text-align: right;\">\n",
       "      <th></th>\n",
       "      <th>Name</th>\n",
       "      <th>Age</th>\n",
       "      <th>Gender</th>\n",
       "      <th>Blood Type</th>\n",
       "      <th>Medical Condition</th>\n",
       "      <th>Date of Admission</th>\n",
       "      <th>Doctor</th>\n",
       "      <th>Hospital</th>\n",
       "      <th>Insurance Provider</th>\n",
       "      <th>Billing Amount</th>\n",
       "      <th>Room Number</th>\n",
       "      <th>Admission Type</th>\n",
       "      <th>Discharge Date</th>\n",
       "      <th>Medication</th>\n",
       "      <th>Test Results</th>\n",
       "    </tr>\n",
       "  </thead>\n",
       "  <tbody>\n",
       "    <tr>\n",
       "      <th>9995</th>\n",
       "      <td>James Hood</td>\n",
       "      <td>83</td>\n",
       "      <td>Male</td>\n",
       "      <td>A+</td>\n",
       "      <td>Obesity</td>\n",
       "      <td>2022-07-29</td>\n",
       "      <td>Samuel Moody</td>\n",
       "      <td>Wood, Martin and Simmons</td>\n",
       "      <td>UnitedHealthcare</td>\n",
       "      <td>39606.840083</td>\n",
       "      <td>110</td>\n",
       "      <td>Elective</td>\n",
       "      <td>2022-08-02</td>\n",
       "      <td>Ibuprofen</td>\n",
       "      <td>Abnormal</td>\n",
       "    </tr>\n",
       "    <tr>\n",
       "      <th>9996</th>\n",
       "      <td>Stephanie Evans</td>\n",
       "      <td>47</td>\n",
       "      <td>Female</td>\n",
       "      <td>AB+</td>\n",
       "      <td>Arthritis</td>\n",
       "      <td>2022-01-06</td>\n",
       "      <td>Christopher Yates</td>\n",
       "      <td>Nash-Krueger</td>\n",
       "      <td>Blue Cross</td>\n",
       "      <td>5995.717488</td>\n",
       "      <td>244</td>\n",
       "      <td>Emergency</td>\n",
       "      <td>2022-01-29</td>\n",
       "      <td>Ibuprofen</td>\n",
       "      <td>Normal</td>\n",
       "    </tr>\n",
       "    <tr>\n",
       "      <th>9997</th>\n",
       "      <td>Christopher Martinez</td>\n",
       "      <td>54</td>\n",
       "      <td>Male</td>\n",
       "      <td>B-</td>\n",
       "      <td>Arthritis</td>\n",
       "      <td>2022-07-01</td>\n",
       "      <td>Robert Nicholson</td>\n",
       "      <td>Larson and Sons</td>\n",
       "      <td>Blue Cross</td>\n",
       "      <td>49559.202905</td>\n",
       "      <td>312</td>\n",
       "      <td>Elective</td>\n",
       "      <td>2022-07-15</td>\n",
       "      <td>Ibuprofen</td>\n",
       "      <td>Normal</td>\n",
       "    </tr>\n",
       "    <tr>\n",
       "      <th>9998</th>\n",
       "      <td>Amanda Duke</td>\n",
       "      <td>84</td>\n",
       "      <td>Male</td>\n",
       "      <td>A+</td>\n",
       "      <td>Arthritis</td>\n",
       "      <td>2020-02-06</td>\n",
       "      <td>Jamie Lewis</td>\n",
       "      <td>Wilson-Lyons</td>\n",
       "      <td>UnitedHealthcare</td>\n",
       "      <td>25236.344761</td>\n",
       "      <td>420</td>\n",
       "      <td>Urgent</td>\n",
       "      <td>2020-02-26</td>\n",
       "      <td>Penicillin</td>\n",
       "      <td>Normal</td>\n",
       "    </tr>\n",
       "    <tr>\n",
       "      <th>9999</th>\n",
       "      <td>Eric King</td>\n",
       "      <td>20</td>\n",
       "      <td>Male</td>\n",
       "      <td>B-</td>\n",
       "      <td>Arthritis</td>\n",
       "      <td>2023-03-22</td>\n",
       "      <td>Tasha Avila</td>\n",
       "      <td>Torres, Young and Stewart</td>\n",
       "      <td>Aetna</td>\n",
       "      <td>37223.965865</td>\n",
       "      <td>290</td>\n",
       "      <td>Emergency</td>\n",
       "      <td>2023-04-15</td>\n",
       "      <td>Penicillin</td>\n",
       "      <td>Abnormal</td>\n",
       "    </tr>\n",
       "  </tbody>\n",
       "</table>\n",
       "</div>"
      ],
      "text/plain": [
       "                      Name  Age  Gender Blood Type Medical Condition  \\\n",
       "9995            James Hood   83    Male         A+           Obesity   \n",
       "9996       Stephanie Evans   47  Female        AB+         Arthritis   \n",
       "9997  Christopher Martinez   54    Male         B-         Arthritis   \n",
       "9998           Amanda Duke   84    Male         A+         Arthritis   \n",
       "9999             Eric King   20    Male         B-         Arthritis   \n",
       "\n",
       "     Date of Admission             Doctor                   Hospital  \\\n",
       "9995        2022-07-29       Samuel Moody   Wood, Martin and Simmons   \n",
       "9996        2022-01-06  Christopher Yates               Nash-Krueger   \n",
       "9997        2022-07-01   Robert Nicholson            Larson and Sons   \n",
       "9998        2020-02-06        Jamie Lewis               Wilson-Lyons   \n",
       "9999        2023-03-22        Tasha Avila  Torres, Young and Stewart   \n",
       "\n",
       "     Insurance Provider  Billing Amount  Room Number Admission Type  \\\n",
       "9995   UnitedHealthcare    39606.840083          110       Elective   \n",
       "9996         Blue Cross     5995.717488          244      Emergency   \n",
       "9997         Blue Cross    49559.202905          312       Elective   \n",
       "9998   UnitedHealthcare    25236.344761          420         Urgent   \n",
       "9999              Aetna    37223.965865          290      Emergency   \n",
       "\n",
       "     Discharge Date  Medication Test Results  \n",
       "9995     2022-08-02   Ibuprofen     Abnormal  \n",
       "9996     2022-01-29   Ibuprofen       Normal  \n",
       "9997     2022-07-15   Ibuprofen       Normal  \n",
       "9998     2020-02-26  Penicillin       Normal  \n",
       "9999     2023-04-15  Penicillin     Abnormal  "
      ]
     },
     "execution_count": 51,
     "metadata": {},
     "output_type": "execute_result"
    }
   ],
   "source": [
    "df.tail()"
   ]
  },
  {
   "cell_type": "markdown",
   "id": "d0dd695f-b181-46b6-ac60-091e780d8190",
   "metadata": {},
   "source": [
    "### Data Inspection and Exploration\n",
    "Display the basic information about the DataFrame"
   ]
  },
  {
   "cell_type": "code",
   "execution_count": 52,
   "id": "cd65d094-e4af-4628-ae30-a41d4a1743be",
   "metadata": {},
   "outputs": [
    {
     "name": "stdout",
     "output_type": "stream",
     "text": [
      "<class 'pandas.core.frame.DataFrame'>\n",
      "RangeIndex: 10000 entries, 0 to 9999\n",
      "Data columns (total 15 columns):\n",
      " #   Column              Non-Null Count  Dtype  \n",
      "---  ------              --------------  -----  \n",
      " 0   Name                10000 non-null  object \n",
      " 1   Age                 10000 non-null  int64  \n",
      " 2   Gender              10000 non-null  object \n",
      " 3   Blood Type          10000 non-null  object \n",
      " 4   Medical Condition   10000 non-null  object \n",
      " 5   Date of Admission   10000 non-null  object \n",
      " 6   Doctor              10000 non-null  object \n",
      " 7   Hospital            10000 non-null  object \n",
      " 8   Insurance Provider  10000 non-null  object \n",
      " 9   Billing Amount      10000 non-null  float64\n",
      " 10  Room Number         10000 non-null  int64  \n",
      " 11  Admission Type      10000 non-null  object \n",
      " 12  Discharge Date      10000 non-null  object \n",
      " 13  Medication          10000 non-null  object \n",
      " 14  Test Results        10000 non-null  object \n",
      "dtypes: float64(1), int64(2), object(12)\n",
      "memory usage: 1.1+ MB\n"
     ]
    }
   ],
   "source": [
    "df.info()"
   ]
  },
  {
   "cell_type": "markdown",
   "id": "9d1bf87a-010b-4297-88b0-ee4baa270615",
   "metadata": {},
   "source": [
    "### This will show all column name in an array"
   ]
  },
  {
   "cell_type": "code",
   "execution_count": 53,
   "id": "67f559c2-108e-4c56-a9ea-45f356118c22",
   "metadata": {},
   "outputs": [
    {
     "data": {
      "text/plain": [
       "['Name',\n",
       " 'Age',\n",
       " 'Gender',\n",
       " 'Blood Type',\n",
       " 'Medical Condition',\n",
       " 'Date of Admission',\n",
       " 'Doctor',\n",
       " 'Hospital',\n",
       " 'Insurance Provider',\n",
       " 'Billing Amount',\n",
       " 'Room Number',\n",
       " 'Admission Type',\n",
       " 'Discharge Date',\n",
       " 'Medication',\n",
       " 'Test Results']"
      ]
     },
     "execution_count": 53,
     "metadata": {},
     "output_type": "execute_result"
    }
   ],
   "source": [
    "df.columns.tolist()"
   ]
  },
  {
   "cell_type": "markdown",
   "id": "ea0be9f8-523a-4bd4-9c35-d343255dd2ff",
   "metadata": {},
   "source": [
    "### Shape give info that how much row and column in dataset."
   ]
  },
  {
   "cell_type": "code",
   "execution_count": 54,
   "id": "f1a1bbf2-4d54-4acc-8847-599d048cd8ce",
   "metadata": {},
   "outputs": [
    {
     "data": {
      "text/plain": [
       "(10000, 15)"
      ]
     },
     "execution_count": 54,
     "metadata": {},
     "output_type": "execute_result"
    }
   ],
   "source": [
    "df.shape"
   ]
  },
  {
   "cell_type": "code",
   "execution_count": 55,
   "id": "18d5b81d-7424-43dd-8fd5-fd4b08271461",
   "metadata": {},
   "outputs": [
    {
     "data": {
      "text/plain": [
       "<bound method DataFrame.info of                       Name  Age  Gender Blood Type Medical Condition  \\\n",
       "0          Tiffany Ramirez   81  Female         O-          Diabetes   \n",
       "1              Ruben Burns   35    Male         O+            Asthma   \n",
       "2                Chad Byrd   61    Male         B-           Obesity   \n",
       "3        Antonio Frederick   49    Male         B-            Asthma   \n",
       "4      Mrs. Brandy Flowers   51    Male         O-         Arthritis   \n",
       "...                    ...  ...     ...        ...               ...   \n",
       "9995            James Hood   83    Male         A+           Obesity   \n",
       "9996       Stephanie Evans   47  Female        AB+         Arthritis   \n",
       "9997  Christopher Martinez   54    Male         B-         Arthritis   \n",
       "9998           Amanda Duke   84    Male         A+         Arthritis   \n",
       "9999             Eric King   20    Male         B-         Arthritis   \n",
       "\n",
       "     Date of Admission             Doctor                   Hospital  \\\n",
       "0           2022-11-17     Patrick Parker           Wallace-Hamilton   \n",
       "1           2023-06-01      Diane Jackson  Burke, Griffin and Cooper   \n",
       "2           2019-01-09         Paul Baker                 Walton LLC   \n",
       "3           2020-05-02     Brian Chandler                 Garcia Ltd   \n",
       "4           2021-07-09     Dustin Griffin    Jones, Brown and Murray   \n",
       "...                ...                ...                        ...   \n",
       "9995        2022-07-29       Samuel Moody   Wood, Martin and Simmons   \n",
       "9996        2022-01-06  Christopher Yates               Nash-Krueger   \n",
       "9997        2022-07-01   Robert Nicholson            Larson and Sons   \n",
       "9998        2020-02-06        Jamie Lewis               Wilson-Lyons   \n",
       "9999        2023-03-22        Tasha Avila  Torres, Young and Stewart   \n",
       "\n",
       "     Insurance Provider  Billing Amount  Room Number Admission Type  \\\n",
       "0              Medicare    37490.983364          146       Elective   \n",
       "1      UnitedHealthcare    47304.064845          404      Emergency   \n",
       "2              Medicare    36874.896997          292      Emergency   \n",
       "3              Medicare    23303.322092          480         Urgent   \n",
       "4      UnitedHealthcare    18086.344184          477         Urgent   \n",
       "...                 ...             ...          ...            ...   \n",
       "9995   UnitedHealthcare    39606.840083          110       Elective   \n",
       "9996         Blue Cross     5995.717488          244      Emergency   \n",
       "9997         Blue Cross    49559.202905          312       Elective   \n",
       "9998   UnitedHealthcare    25236.344761          420         Urgent   \n",
       "9999              Aetna    37223.965865          290      Emergency   \n",
       "\n",
       "     Discharge Date   Medication  Test Results  \n",
       "0        2022-12-01      Aspirin  Inconclusive  \n",
       "1        2023-06-15      Lipitor        Normal  \n",
       "2        2019-02-08      Lipitor        Normal  \n",
       "3        2020-05-03   Penicillin      Abnormal  \n",
       "4        2021-08-02  Paracetamol        Normal  \n",
       "...             ...          ...           ...  \n",
       "9995     2022-08-02    Ibuprofen      Abnormal  \n",
       "9996     2022-01-29    Ibuprofen        Normal  \n",
       "9997     2022-07-15    Ibuprofen        Normal  \n",
       "9998     2020-02-26   Penicillin        Normal  \n",
       "9999     2023-04-15   Penicillin      Abnormal  \n",
       "\n",
       "[10000 rows x 15 columns]>"
      ]
     },
     "execution_count": 55,
     "metadata": {},
     "output_type": "execute_result"
    }
   ],
   "source": [
    "df.info"
   ]
  },
  {
   "cell_type": "markdown",
   "id": "4c215b0a-5a42-4822-a449-e51419191c50",
   "metadata": {},
   "source": [
    "### Data Cleaning and Preparation\n",
    "Convert **Date of Admission** and **Discharge Date** columns to datetime objects."
   ]
  },
  {
   "cell_type": "code",
   "execution_count": 56,
   "id": "c5f1fa38-0594-4c1d-a92c-051e21d5131d",
   "metadata": {},
   "outputs": [],
   "source": [
    "AdmiObjToDate = df['Date of Admission'] = pd.to_datetime(df['Date of Admission'])\n",
    "DisObjToDate = df['Discharge Date'] = pd.to_datetime(df['Discharge Date'])"
   ]
  },
  {
   "cell_type": "code",
   "execution_count": 57,
   "id": "cbb9bb50-426c-4819-b49c-e7f3c5981d02",
   "metadata": {},
   "outputs": [
    {
     "data": {
      "text/plain": [
       "(0      2022-11-17\n",
       " 1      2023-06-01\n",
       " 2      2019-01-09\n",
       " 3      2020-05-02\n",
       " 4      2021-07-09\n",
       "           ...    \n",
       " 9995   2022-07-29\n",
       " 9996   2022-01-06\n",
       " 9997   2022-07-01\n",
       " 9998   2020-02-06\n",
       " 9999   2023-03-22\n",
       " Name: Date of Admission, Length: 10000, dtype: datetime64[ns],\n",
       " 0      2022-12-01\n",
       " 1      2023-06-15\n",
       " 2      2019-02-08\n",
       " 3      2020-05-03\n",
       " 4      2021-08-02\n",
       "           ...    \n",
       " 9995   2022-08-02\n",
       " 9996   2022-01-29\n",
       " 9997   2022-07-15\n",
       " 9998   2020-02-26\n",
       " 9999   2023-04-15\n",
       " Name: Discharge Date, Length: 10000, dtype: datetime64[ns])"
      ]
     },
     "execution_count": 57,
     "metadata": {},
     "output_type": "execute_result"
    }
   ],
   "source": [
    "AdmiObjToDate , DisObjToDate"
   ]
  },
  {
   "cell_type": "markdown",
   "id": "c8821786-2d87-4b6b-9177-da6d0e0fe283",
   "metadata": {},
   "source": [
    "### Check for missing values"
   ]
  },
  {
   "cell_type": "code",
   "execution_count": 58,
   "id": "4ffa6bff-6cd6-470b-beac-6773b7710f8a",
   "metadata": {},
   "outputs": [
    {
     "data": {
      "text/plain": [
       "Name                  0\n",
       "Age                   0\n",
       "Gender                0\n",
       "Blood Type            0\n",
       "Medical Condition     0\n",
       "Date of Admission     0\n",
       "Doctor                0\n",
       "Hospital              0\n",
       "Insurance Provider    0\n",
       "Billing Amount        0\n",
       "Room Number           0\n",
       "Admission Type        0\n",
       "Discharge Date        0\n",
       "Medication            0\n",
       "Test Results          0\n",
       "dtype: int64"
      ]
     },
     "execution_count": 58,
     "metadata": {},
     "output_type": "execute_result"
    }
   ],
   "source": [
    "missingValue =  df.isnull().sum()\n",
    "missingValue"
   ]
  },
  {
   "cell_type": "markdown",
   "id": "d594133e-ce70-470c-95ce-cd9a2713ac24",
   "metadata": {},
   "source": [
    "###  Check for duplicates and remove if an."
   ]
  },
  {
   "cell_type": "code",
   "execution_count": 59,
   "id": "33cde6ec-430f-4854-8204-6b5610944dd0",
   "metadata": {},
   "outputs": [
    {
     "name": "stdout",
     "output_type": "stream",
     "text": [
      "Number of duplicates: 0\n"
     ]
    }
   ],
   "source": [
    "# Check for duplicates\n",
    "duplicates = df.duplicated()\n",
    "\n",
    "print(f\"Number of duplicates: {duplicates.sum()}\")"
   ]
  },
  {
   "cell_type": "code",
   "execution_count": 60,
   "id": "fd49417d-59b8-4c90-aeae-20e23d2bbea6",
   "metadata": {},
   "outputs": [
    {
     "data": {
      "text/html": [
       "<div>\n",
       "<style scoped>\n",
       "    .dataframe tbody tr th:only-of-type {\n",
       "        vertical-align: middle;\n",
       "    }\n",
       "\n",
       "    .dataframe tbody tr th {\n",
       "        vertical-align: top;\n",
       "    }\n",
       "\n",
       "    .dataframe thead th {\n",
       "        text-align: right;\n",
       "    }\n",
       "</style>\n",
       "<table border=\"1\" class=\"dataframe\">\n",
       "  <thead>\n",
       "    <tr style=\"text-align: right;\">\n",
       "      <th></th>\n",
       "      <th>Name</th>\n",
       "      <th>Age</th>\n",
       "      <th>Gender</th>\n",
       "      <th>Blood Type</th>\n",
       "      <th>Medical Condition</th>\n",
       "      <th>Date of Admission</th>\n",
       "      <th>Doctor</th>\n",
       "      <th>Hospital</th>\n",
       "      <th>Insurance Provider</th>\n",
       "      <th>Billing Amount</th>\n",
       "      <th>Room Number</th>\n",
       "      <th>Admission Type</th>\n",
       "      <th>Discharge Date</th>\n",
       "      <th>Medication</th>\n",
       "      <th>Test Results</th>\n",
       "    </tr>\n",
       "  </thead>\n",
       "  <tbody>\n",
       "    <tr>\n",
       "      <th>0</th>\n",
       "      <td>Tiffany Ramirez</td>\n",
       "      <td>81</td>\n",
       "      <td>Female</td>\n",
       "      <td>O-</td>\n",
       "      <td>Diabetes</td>\n",
       "      <td>2022-11-17</td>\n",
       "      <td>Patrick Parker</td>\n",
       "      <td>Wallace-Hamilton</td>\n",
       "      <td>Medicare</td>\n",
       "      <td>37490.983364</td>\n",
       "      <td>146</td>\n",
       "      <td>Elective</td>\n",
       "      <td>2022-12-01</td>\n",
       "      <td>Aspirin</td>\n",
       "      <td>Inconclusive</td>\n",
       "    </tr>\n",
       "    <tr>\n",
       "      <th>1</th>\n",
       "      <td>Ruben Burns</td>\n",
       "      <td>35</td>\n",
       "      <td>Male</td>\n",
       "      <td>O+</td>\n",
       "      <td>Asthma</td>\n",
       "      <td>2023-06-01</td>\n",
       "      <td>Diane Jackson</td>\n",
       "      <td>Burke, Griffin and Cooper</td>\n",
       "      <td>UnitedHealthcare</td>\n",
       "      <td>47304.064845</td>\n",
       "      <td>404</td>\n",
       "      <td>Emergency</td>\n",
       "      <td>2023-06-15</td>\n",
       "      <td>Lipitor</td>\n",
       "      <td>Normal</td>\n",
       "    </tr>\n",
       "    <tr>\n",
       "      <th>2</th>\n",
       "      <td>Chad Byrd</td>\n",
       "      <td>61</td>\n",
       "      <td>Male</td>\n",
       "      <td>B-</td>\n",
       "      <td>Obesity</td>\n",
       "      <td>2019-01-09</td>\n",
       "      <td>Paul Baker</td>\n",
       "      <td>Walton LLC</td>\n",
       "      <td>Medicare</td>\n",
       "      <td>36874.896997</td>\n",
       "      <td>292</td>\n",
       "      <td>Emergency</td>\n",
       "      <td>2019-02-08</td>\n",
       "      <td>Lipitor</td>\n",
       "      <td>Normal</td>\n",
       "    </tr>\n",
       "    <tr>\n",
       "      <th>3</th>\n",
       "      <td>Antonio Frederick</td>\n",
       "      <td>49</td>\n",
       "      <td>Male</td>\n",
       "      <td>B-</td>\n",
       "      <td>Asthma</td>\n",
       "      <td>2020-05-02</td>\n",
       "      <td>Brian Chandler</td>\n",
       "      <td>Garcia Ltd</td>\n",
       "      <td>Medicare</td>\n",
       "      <td>23303.322092</td>\n",
       "      <td>480</td>\n",
       "      <td>Urgent</td>\n",
       "      <td>2020-05-03</td>\n",
       "      <td>Penicillin</td>\n",
       "      <td>Abnormal</td>\n",
       "    </tr>\n",
       "    <tr>\n",
       "      <th>4</th>\n",
       "      <td>Mrs. Brandy Flowers</td>\n",
       "      <td>51</td>\n",
       "      <td>Male</td>\n",
       "      <td>O-</td>\n",
       "      <td>Arthritis</td>\n",
       "      <td>2021-07-09</td>\n",
       "      <td>Dustin Griffin</td>\n",
       "      <td>Jones, Brown and Murray</td>\n",
       "      <td>UnitedHealthcare</td>\n",
       "      <td>18086.344184</td>\n",
       "      <td>477</td>\n",
       "      <td>Urgent</td>\n",
       "      <td>2021-08-02</td>\n",
       "      <td>Paracetamol</td>\n",
       "      <td>Normal</td>\n",
       "    </tr>\n",
       "    <tr>\n",
       "      <th>...</th>\n",
       "      <td>...</td>\n",
       "      <td>...</td>\n",
       "      <td>...</td>\n",
       "      <td>...</td>\n",
       "      <td>...</td>\n",
       "      <td>...</td>\n",
       "      <td>...</td>\n",
       "      <td>...</td>\n",
       "      <td>...</td>\n",
       "      <td>...</td>\n",
       "      <td>...</td>\n",
       "      <td>...</td>\n",
       "      <td>...</td>\n",
       "      <td>...</td>\n",
       "      <td>...</td>\n",
       "    </tr>\n",
       "    <tr>\n",
       "      <th>9995</th>\n",
       "      <td>James Hood</td>\n",
       "      <td>83</td>\n",
       "      <td>Male</td>\n",
       "      <td>A+</td>\n",
       "      <td>Obesity</td>\n",
       "      <td>2022-07-29</td>\n",
       "      <td>Samuel Moody</td>\n",
       "      <td>Wood, Martin and Simmons</td>\n",
       "      <td>UnitedHealthcare</td>\n",
       "      <td>39606.840083</td>\n",
       "      <td>110</td>\n",
       "      <td>Elective</td>\n",
       "      <td>2022-08-02</td>\n",
       "      <td>Ibuprofen</td>\n",
       "      <td>Abnormal</td>\n",
       "    </tr>\n",
       "    <tr>\n",
       "      <th>9996</th>\n",
       "      <td>Stephanie Evans</td>\n",
       "      <td>47</td>\n",
       "      <td>Female</td>\n",
       "      <td>AB+</td>\n",
       "      <td>Arthritis</td>\n",
       "      <td>2022-01-06</td>\n",
       "      <td>Christopher Yates</td>\n",
       "      <td>Nash-Krueger</td>\n",
       "      <td>Blue Cross</td>\n",
       "      <td>5995.717488</td>\n",
       "      <td>244</td>\n",
       "      <td>Emergency</td>\n",
       "      <td>2022-01-29</td>\n",
       "      <td>Ibuprofen</td>\n",
       "      <td>Normal</td>\n",
       "    </tr>\n",
       "    <tr>\n",
       "      <th>9997</th>\n",
       "      <td>Christopher Martinez</td>\n",
       "      <td>54</td>\n",
       "      <td>Male</td>\n",
       "      <td>B-</td>\n",
       "      <td>Arthritis</td>\n",
       "      <td>2022-07-01</td>\n",
       "      <td>Robert Nicholson</td>\n",
       "      <td>Larson and Sons</td>\n",
       "      <td>Blue Cross</td>\n",
       "      <td>49559.202905</td>\n",
       "      <td>312</td>\n",
       "      <td>Elective</td>\n",
       "      <td>2022-07-15</td>\n",
       "      <td>Ibuprofen</td>\n",
       "      <td>Normal</td>\n",
       "    </tr>\n",
       "    <tr>\n",
       "      <th>9998</th>\n",
       "      <td>Amanda Duke</td>\n",
       "      <td>84</td>\n",
       "      <td>Male</td>\n",
       "      <td>A+</td>\n",
       "      <td>Arthritis</td>\n",
       "      <td>2020-02-06</td>\n",
       "      <td>Jamie Lewis</td>\n",
       "      <td>Wilson-Lyons</td>\n",
       "      <td>UnitedHealthcare</td>\n",
       "      <td>25236.344761</td>\n",
       "      <td>420</td>\n",
       "      <td>Urgent</td>\n",
       "      <td>2020-02-26</td>\n",
       "      <td>Penicillin</td>\n",
       "      <td>Normal</td>\n",
       "    </tr>\n",
       "    <tr>\n",
       "      <th>9999</th>\n",
       "      <td>Eric King</td>\n",
       "      <td>20</td>\n",
       "      <td>Male</td>\n",
       "      <td>B-</td>\n",
       "      <td>Arthritis</td>\n",
       "      <td>2023-03-22</td>\n",
       "      <td>Tasha Avila</td>\n",
       "      <td>Torres, Young and Stewart</td>\n",
       "      <td>Aetna</td>\n",
       "      <td>37223.965865</td>\n",
       "      <td>290</td>\n",
       "      <td>Emergency</td>\n",
       "      <td>2023-04-15</td>\n",
       "      <td>Penicillin</td>\n",
       "      <td>Abnormal</td>\n",
       "    </tr>\n",
       "  </tbody>\n",
       "</table>\n",
       "<p>10000 rows × 15 columns</p>\n",
       "</div>"
      ],
      "text/plain": [
       "                      Name  Age  Gender Blood Type Medical Condition  \\\n",
       "0          Tiffany Ramirez   81  Female         O-          Diabetes   \n",
       "1              Ruben Burns   35    Male         O+            Asthma   \n",
       "2                Chad Byrd   61    Male         B-           Obesity   \n",
       "3        Antonio Frederick   49    Male         B-            Asthma   \n",
       "4      Mrs. Brandy Flowers   51    Male         O-         Arthritis   \n",
       "...                    ...  ...     ...        ...               ...   \n",
       "9995            James Hood   83    Male         A+           Obesity   \n",
       "9996       Stephanie Evans   47  Female        AB+         Arthritis   \n",
       "9997  Christopher Martinez   54    Male         B-         Arthritis   \n",
       "9998           Amanda Duke   84    Male         A+         Arthritis   \n",
       "9999             Eric King   20    Male         B-         Arthritis   \n",
       "\n",
       "     Date of Admission             Doctor                   Hospital  \\\n",
       "0           2022-11-17     Patrick Parker           Wallace-Hamilton   \n",
       "1           2023-06-01      Diane Jackson  Burke, Griffin and Cooper   \n",
       "2           2019-01-09         Paul Baker                 Walton LLC   \n",
       "3           2020-05-02     Brian Chandler                 Garcia Ltd   \n",
       "4           2021-07-09     Dustin Griffin    Jones, Brown and Murray   \n",
       "...                ...                ...                        ...   \n",
       "9995        2022-07-29       Samuel Moody   Wood, Martin and Simmons   \n",
       "9996        2022-01-06  Christopher Yates               Nash-Krueger   \n",
       "9997        2022-07-01   Robert Nicholson            Larson and Sons   \n",
       "9998        2020-02-06        Jamie Lewis               Wilson-Lyons   \n",
       "9999        2023-03-22        Tasha Avila  Torres, Young and Stewart   \n",
       "\n",
       "     Insurance Provider  Billing Amount  Room Number Admission Type  \\\n",
       "0              Medicare    37490.983364          146       Elective   \n",
       "1      UnitedHealthcare    47304.064845          404      Emergency   \n",
       "2              Medicare    36874.896997          292      Emergency   \n",
       "3              Medicare    23303.322092          480         Urgent   \n",
       "4      UnitedHealthcare    18086.344184          477         Urgent   \n",
       "...                 ...             ...          ...            ...   \n",
       "9995   UnitedHealthcare    39606.840083          110       Elective   \n",
       "9996         Blue Cross     5995.717488          244      Emergency   \n",
       "9997         Blue Cross    49559.202905          312       Elective   \n",
       "9998   UnitedHealthcare    25236.344761          420         Urgent   \n",
       "9999              Aetna    37223.965865          290      Emergency   \n",
       "\n",
       "     Discharge Date   Medication  Test Results  \n",
       "0        2022-12-01      Aspirin  Inconclusive  \n",
       "1        2023-06-15      Lipitor        Normal  \n",
       "2        2019-02-08      Lipitor        Normal  \n",
       "3        2020-05-03   Penicillin      Abnormal  \n",
       "4        2021-08-02  Paracetamol        Normal  \n",
       "...             ...          ...           ...  \n",
       "9995     2022-08-02    Ibuprofen      Abnormal  \n",
       "9996     2022-01-29    Ibuprofen        Normal  \n",
       "9997     2022-07-15    Ibuprofen        Normal  \n",
       "9998     2020-02-26   Penicillin        Normal  \n",
       "9999     2023-04-15   Penicillin      Abnormal  \n",
       "\n",
       "[10000 rows x 15 columns]"
      ]
     },
     "execution_count": 60,
     "metadata": {},
     "output_type": "execute_result"
    }
   ],
   "source": [
    "duplicate = df.drop_duplicates()\n",
    "duplicate"
   ]
  },
  {
   "cell_type": "markdown",
   "id": "b2c81876-2257-4a87-9327-29cb8a4267e1",
   "metadata": {},
   "source": [
    "### Check unique values in categorical columns."
   ]
  },
  {
   "cell_type": "code",
   "execution_count": 61,
   "id": "dd9544a6-1772-4266-997c-d5bedaed7852",
   "metadata": {},
   "outputs": [
    {
     "data": {
      "text/plain": [
       "(array(['Diabetes', 'Asthma', 'Obesity', 'Arthritis', 'Hypertension',\n",
       "        'Cancer'], dtype=object),\n",
       " array(['Medicare', 'UnitedHealthcare', 'Aetna', 'Cigna', 'Blue Cross'],\n",
       "       dtype=object))"
      ]
     },
     "execution_count": 61,
     "metadata": {},
     "output_type": "execute_result"
    }
   ],
   "source": [
    "MedUniqueValue = df['Medical Condition'].unique()\n",
    "InsUniqueValue = df['Insurance Provider'].unique()\n",
    "MedUniqueValue, InsUniqueValue"
   ]
  },
  {
   "cell_type": "markdown",
   "id": "549bc23f-aa04-4b3d-9ee7-a6a2b4078023",
   "metadata": {},
   "source": [
    "### Summary statistics of numerical columns"
   ]
  },
  {
   "cell_type": "code",
   "execution_count": 62,
   "id": "9b37a31e-6ae3-482a-94df-d2b1a15391ad",
   "metadata": {},
   "outputs": [
    {
     "data": {
      "text/html": [
       "<div>\n",
       "<style scoped>\n",
       "    .dataframe tbody tr th:only-of-type {\n",
       "        vertical-align: middle;\n",
       "    }\n",
       "\n",
       "    .dataframe tbody tr th {\n",
       "        vertical-align: top;\n",
       "    }\n",
       "\n",
       "    .dataframe thead th {\n",
       "        text-align: right;\n",
       "    }\n",
       "</style>\n",
       "<table border=\"1\" class=\"dataframe\">\n",
       "  <thead>\n",
       "    <tr style=\"text-align: right;\">\n",
       "      <th></th>\n",
       "      <th>Age</th>\n",
       "      <th>Date of Admission</th>\n",
       "      <th>Billing Amount</th>\n",
       "      <th>Room Number</th>\n",
       "      <th>Discharge Date</th>\n",
       "    </tr>\n",
       "  </thead>\n",
       "  <tbody>\n",
       "    <tr>\n",
       "      <th>count</th>\n",
       "      <td>10000.000000</td>\n",
       "      <td>10000</td>\n",
       "      <td>10000.000000</td>\n",
       "      <td>10000.000000</td>\n",
       "      <td>10000</td>\n",
       "    </tr>\n",
       "    <tr>\n",
       "      <th>mean</th>\n",
       "      <td>51.452200</td>\n",
       "      <td>2021-05-01 21:53:25.439999744</td>\n",
       "      <td>25516.806778</td>\n",
       "      <td>300.082000</td>\n",
       "      <td>2021-05-17 11:22:24.960000</td>\n",
       "    </tr>\n",
       "    <tr>\n",
       "      <th>min</th>\n",
       "      <td>18.000000</td>\n",
       "      <td>2018-10-30 00:00:00</td>\n",
       "      <td>1000.180837</td>\n",
       "      <td>101.000000</td>\n",
       "      <td>2018-11-01 00:00:00</td>\n",
       "    </tr>\n",
       "    <tr>\n",
       "      <th>25%</th>\n",
       "      <td>35.000000</td>\n",
       "      <td>2020-02-10 00:00:00</td>\n",
       "      <td>13506.523967</td>\n",
       "      <td>199.000000</td>\n",
       "      <td>2020-02-23 18:00:00</td>\n",
       "    </tr>\n",
       "    <tr>\n",
       "      <th>50%</th>\n",
       "      <td>52.000000</td>\n",
       "      <td>2021-05-02 00:00:00</td>\n",
       "      <td>25258.112566</td>\n",
       "      <td>299.000000</td>\n",
       "      <td>2021-05-18 00:00:00</td>\n",
       "    </tr>\n",
       "    <tr>\n",
       "      <th>75%</th>\n",
       "      <td>68.000000</td>\n",
       "      <td>2022-07-23 06:00:00</td>\n",
       "      <td>37733.913727</td>\n",
       "      <td>400.000000</td>\n",
       "      <td>2022-08-07 00:00:00</td>\n",
       "    </tr>\n",
       "    <tr>\n",
       "      <th>max</th>\n",
       "      <td>85.000000</td>\n",
       "      <td>2023-10-30 00:00:00</td>\n",
       "      <td>49995.902283</td>\n",
       "      <td>500.000000</td>\n",
       "      <td>2023-11-27 00:00:00</td>\n",
       "    </tr>\n",
       "    <tr>\n",
       "      <th>std</th>\n",
       "      <td>19.588974</td>\n",
       "      <td>NaN</td>\n",
       "      <td>14067.292709</td>\n",
       "      <td>115.806027</td>\n",
       "      <td>NaN</td>\n",
       "    </tr>\n",
       "  </tbody>\n",
       "</table>\n",
       "</div>"
      ],
      "text/plain": [
       "                Age              Date of Admission  Billing Amount  \\\n",
       "count  10000.000000                          10000    10000.000000   \n",
       "mean      51.452200  2021-05-01 21:53:25.439999744    25516.806778   \n",
       "min       18.000000            2018-10-30 00:00:00     1000.180837   \n",
       "25%       35.000000            2020-02-10 00:00:00    13506.523967   \n",
       "50%       52.000000            2021-05-02 00:00:00    25258.112566   \n",
       "75%       68.000000            2022-07-23 06:00:00    37733.913727   \n",
       "max       85.000000            2023-10-30 00:00:00    49995.902283   \n",
       "std       19.588974                            NaN    14067.292709   \n",
       "\n",
       "        Room Number              Discharge Date  \n",
       "count  10000.000000                       10000  \n",
       "mean     300.082000  2021-05-17 11:22:24.960000  \n",
       "min      101.000000         2018-11-01 00:00:00  \n",
       "25%      199.000000         2020-02-23 18:00:00  \n",
       "50%      299.000000         2021-05-18 00:00:00  \n",
       "75%      400.000000         2022-08-07 00:00:00  \n",
       "max      500.000000         2023-11-27 00:00:00  \n",
       "std      115.806027                         NaN  "
      ]
     },
     "execution_count": 62,
     "metadata": {},
     "output_type": "execute_result"
    }
   ],
   "source": [
    "df.describe()"
   ]
  },
  {
   "cell_type": "markdown",
   "id": "b38372c8-57af-46e5-8ff9-9e9160c37f98",
   "metadata": {},
   "source": [
    "### Accessing a single columns."
   ]
  },
  {
   "cell_type": "code",
   "execution_count": 63,
   "id": "5c9c4fc5-ec13-49ce-a65b-508b7fddcd60",
   "metadata": {},
   "outputs": [
    {
     "data": {
      "text/plain": [
       "0                Wallace-Hamilton\n",
       "1       Burke, Griffin and Cooper\n",
       "2                      Walton LLC\n",
       "3                      Garcia Ltd\n",
       "4         Jones, Brown and Murray\n",
       "                  ...            \n",
       "9995     Wood, Martin and Simmons\n",
       "9996                 Nash-Krueger\n",
       "9997              Larson and Sons\n",
       "9998                 Wilson-Lyons\n",
       "9999    Torres, Young and Stewart\n",
       "Name: Hospital, Length: 10000, dtype: object"
      ]
     },
     "execution_count": 63,
     "metadata": {},
     "output_type": "execute_result"
    }
   ],
   "source": [
    "df.Hospital"
   ]
  },
  {
   "cell_type": "markdown",
   "id": "82b1220b-2dad-45c2-9be7-9db12ce31f90",
   "metadata": {},
   "source": [
    "# Data Analysis\n",
    "### Calculate average billing amount and total amount"
   ]
  },
  {
   "cell_type": "code",
   "execution_count": 64,
   "id": "97d87cb3-8fb6-4f14-9c32-913cb684721a",
   "metadata": {},
   "outputs": [
    {
     "name": "stdout",
     "output_type": "stream",
     "text": [
      "Average Billing Amount: 25516.8067777384\n",
      "Total Billing Amount: 255168067.77738398\n"
     ]
    }
   ],
   "source": [
    "average_billing_amount = df['Billing Amount'].mean()\n",
    "total_billing_amount = df['Billing Amount'].sum()\n",
    "\n",
    "print(f\"Average Billing Amount: {average_billing_amount}\")\n",
    "print(f\"Total Billing Amount: {total_billing_amount}\")"
   ]
  },
  {
   "cell_type": "markdown",
   "id": "1eb17e59-0c81-43ea-ade2-d4919aa4b6ba",
   "metadata": {},
   "source": [
    "### Count value of medical condition"
   ]
  },
  {
   "cell_type": "code",
   "execution_count": 65,
   "id": "e8657a87-3062-438d-a074-479d2626e241",
   "metadata": {},
   "outputs": [],
   "source": [
    "condition_count = df['Medical Condition'].value_counts()"
   ]
  },
  {
   "cell_type": "code",
   "execution_count": 66,
   "id": "11513f3f-de58-4dac-af33-8d4418f4e7a8",
   "metadata": {},
   "outputs": [
    {
     "data": {
      "text/plain": [
       "Medical Condition\n",
       "Asthma          1708\n",
       "Cancer          1703\n",
       "Hypertension    1688\n",
       "Arthritis       1650\n",
       "Obesity         1628\n",
       "Diabetes        1623\n",
       "Name: count, dtype: int64"
      ]
     },
     "execution_count": 66,
     "metadata": {},
     "output_type": "execute_result"
    }
   ],
   "source": [
    "condition_count"
   ]
  },
  {
   "cell_type": "markdown",
   "id": "0184fd9e-ec6d-43b0-ab69-c72a222b49f9",
   "metadata": {},
   "source": [
    "### Plotted a pie chart of medical condition."
   ]
  },
  {
   "cell_type": "code",
   "execution_count": 89,
   "id": "ed1362cd-634c-4085-8e00-b733e392c414",
   "metadata": {},
   "outputs": [
    {
     "data": {
      "image/png": "[encoded data removed]",
      "text/plain": [
       "<Figure size 1000x600 with 1 Axes>"
      ]
     },
     "metadata": {},
     "output_type": "display_data"
    }
   ],
   "source": [
    "plt.figure(figsize=(10, 6))\n",
    "condition_count.plot(kind='bar', color='skyblue')\n",
    "plt.title('Medical Condition Distribution')\n",
    "plt.xlabel('Medical Conditions')\n",
    "plt.ylabel('Count')\n",
    "plt.xticks(rotation=45)\n",
    "plt.tight_layout()\n",
    "plt.show()"
   ]
  },
  {
   "cell_type": "markdown",
   "id": "6b41f67e-3672-45ee-920c-59acf1b8215c",
   "metadata": {},
   "source": [
    "## Data Exploratory"
   ]
  },
  {
   "cell_type": "code",
   "execution_count": 68,
   "id": "39b49f5b-de05-4059-996d-4343613c0a32",
   "metadata": {},
   "outputs": [
    {
     "data": {
      "text/plain": [
       "Index(['Name', 'Age', 'Gender', 'Blood Type', 'Medical Condition',\n",
       "       'Date of Admission', 'Doctor', 'Hospital', 'Insurance Provider',\n",
       "       'Billing Amount', 'Room Number', 'Admission Type', 'Discharge Date',\n",
       "       'Medication', 'Test Results'],\n",
       "      dtype='object')"
      ]
     },
     "execution_count": 68,
     "metadata": {},
     "output_type": "execute_result"
    }
   ],
   "source": [
    "df.columns"
   ]
  },
  {
   "cell_type": "markdown",
   "id": "f0916fd3-5b32-485f-b8f5-3c20eb2a3d23",
   "metadata": {},
   "source": [
    "### Percentage of male and female patient."
   ]
  },
  {
   "cell_type": "code",
   "execution_count": 69,
   "id": "85579dde-9d11-4d07-9d1e-089746f3fc55",
   "metadata": {},
   "outputs": [
    {
     "data": {
      "text/plain": [
       "Gender\n",
       "Female    5075\n",
       "Male      4925\n",
       "Name: count, dtype: int64"
      ]
     },
     "execution_count": 69,
     "metadata": {},
     "output_type": "execute_result"
    }
   ],
   "source": [
    "gender_counts = df['Gender'].value_counts()\n",
    "gender_counts"
   ]
  },
  {
   "cell_type": "code",
   "execution_count": 70,
   "id": "b5530115-5879-49f0-85ad-669dca7b2dd2",
   "metadata": {},
   "outputs": [
    {
     "data": {
      "text/plain": [
       "10000"
      ]
     },
     "execution_count": 70,
     "metadata": {},
     "output_type": "execute_result"
    }
   ],
   "source": [
    "total_count = gender_counts.sum()\n",
    "total_count"
   ]
  },
  {
   "cell_type": "code",
   "execution_count": 71,
   "id": "3c155141-f48d-4172-9017-de15dd8a1835",
   "metadata": {},
   "outputs": [
    {
     "name": "stdout",
     "output_type": "stream",
     "text": [
      "Pecentage of male: 49.25\n",
      "Pecentage of female: 50.74999999999999\n"
     ]
    }
   ],
   "source": [
    "percentage_male = (gender_counts['Male'] / total_count) * 100\n",
    "percentage_female = (gender_counts['Female'] / total_count) * 100\n",
    "\n",
    "print(\"Pecentage of male:\", percentage_male)\n",
    "print(\"Pecentage of female:\", percentage_female)"
   ]
  },
  {
   "cell_type": "markdown",
   "id": "d4d25cb2-e45b-4a77-9722-2c31df14036e",
   "metadata": {},
   "source": [
    "### Plotted pie chart for gender distribution"
   ]
  },
  {
   "cell_type": "code",
   "execution_count": 78,
   "id": "8d5a0ea1-b925-4799-90fd-146c04d25906",
   "metadata": {},
   "outputs": [
    {
     "data": {
      "image/png": "[encoded data removed]",
      "text/plain": [
       "<Figure size 800x600 with 1 Axes>"
      ]
     },
     "metadata": {},
     "output_type": "display_data"
    }
   ],
   "source": [
    "values = [percentage_male, percentage_female]\n",
    "labels = ['Male', 'Female']\n",
    "\n",
    "plt.figure(figsize=(8, 6))\n",
    "plt.barh(labels, values, color='lightcoral')  # Using barh for horizontal bar chart\n",
    "\n",
    "plt.title('Gender Distribution')\n",
    "plt.xlabel('Percentage')\n",
    "plt.ylabel('Gender')\n",
    "plt.show()"
   ]
  },
  {
   "cell_type": "code",
   "execution_count": 91,
   "id": "184b88f8-2841-4688-997d-13ac696ddbbe",
   "metadata": {},
   "outputs": [
    {
     "data": {
      "text/plain": [
       "Index(['Name', 'Age', 'Gender', 'Blood Type', 'Medical Condition',\n",
       "       'Date of Admission', 'Doctor', 'Hospital', 'Insurance Provider',\n",
       "       'Billing Amount', 'Room Number', 'Admission Type', 'Discharge Date',\n",
       "       'Medication', 'Test Results'],\n",
       "      dtype='object')"
      ]
     },
     "execution_count": 91,
     "metadata": {},
     "output_type": "execute_result"
    }
   ],
   "source": [
    "df.columns"
   ]
  },
  {
   "cell_type": "markdown",
   "id": "2573d295-9b25-4809-9549-570c91bee8ec",
   "metadata": {},
   "source": [
    "### Analysis Categorical data for Blood group"
   ]
  },
  {
   "cell_type": "code",
   "execution_count": 96,
   "id": "32951b76-72a0-43e5-a348-1b87c19095a2",
   "metadata": {},
   "outputs": [
    {
     "data": {
      "text/plain": [
       "Blood Type\n",
       "AB-    1275\n",
       "AB+    1258\n",
       "B-     1252\n",
       "O+     1248\n",
       "O-     1244\n",
       "B+     1244\n",
       "A+     1241\n",
       "A-     1238\n",
       "Name: count, dtype: int64"
      ]
     },
     "execution_count": 96,
     "metadata": {},
     "output_type": "execute_result"
    }
   ],
   "source": [
    "blood_group = df['Blood Type'].value_counts()\n",
    "blood_group"
   ]
  },
  {
   "cell_type": "code",
   "execution_count": 101,
   "id": "6b59fced-5f95-4e3e-b9b9-e692f3f1e51f",
   "metadata": {},
   "outputs": [
    {
     "ename": "NameError",
     "evalue": "name 'data' is not defined",
     "output_type": "error",
     "traceback": [
      "\u001b[1;31m---------------------------------------------------------------------------\u001b[0m",
      "\u001b[1;31mNameError\u001b[0m                                 Traceback (most recent call last)",
      "Cell \u001b[1;32mIn[101], line 2\u001b[0m\n\u001b[0;32m      1\u001b[0m plt\u001b[38;5;241m.\u001b[39mfigure(figsize\u001b[38;5;241m=\u001b[39m(\u001b[38;5;241m8\u001b[39m, \u001b[38;5;241m6\u001b[39m))\n\u001b[1;32m----> 2\u001b[0m sns\u001b[38;5;241m.\u001b[39mcountplot(data\u001b[38;5;241m=\u001b[39mdf[\u001b[38;5;124m'\u001b[39m\u001b[38;5;124mBlood Type\u001b[39m\u001b[38;5;124m'\u001b[39m], x\u001b[38;5;241m=\u001b[39m\u001b[38;5;124m'\u001b[39m\u001b[38;5;124mBlood Type\u001b[39m\u001b[38;5;124m'\u001b[39m, order\u001b[38;5;241m=\u001b[39m\u001b[43mdata\u001b[49m[\u001b[38;5;124m'\u001b[39m\u001b[38;5;124mBlood Type\u001b[39m\u001b[38;5;124m'\u001b[39m]\u001b[38;5;241m.\u001b[39mvalue_counts()\u001b[38;5;241m.\u001b[39mindex)\n\u001b[0;32m      3\u001b[0m plt\u001b[38;5;241m.\u001b[39mtitle(\u001b[38;5;124m'\u001b[39m\u001b[38;5;124mDistribution of Blood Types\u001b[39m\u001b[38;5;124m'\u001b[39m)\n\u001b[0;32m      4\u001b[0m plt\u001b[38;5;241m.\u001b[39mxlabel(\u001b[38;5;124m'\u001b[39m\u001b[38;5;124mBlood Type\u001b[39m\u001b[38;5;124m'\u001b[39m)\n",
      "\u001b[1;31mNameError\u001b[0m: name 'data' is not defined"
     ]
    },
    {
     "data": {
      "text/plain": [
       "<Figure size 800x600 with 0 Axes>"
      ]
     },
     "metadata": {},
     "output_type": "display_data"
    }
   ],
   "source": []
  },
  {
   "cell_type": "code",
   "execution_count": null,
   "id": "aa61827c-20f9-49e3-894a-d6c067d8b902",
   "metadata": {},
   "outputs": [],
   "source": []
  },
  {
   "cell_type": "code",
   "execution_count": null,
   "id": "b22093db-d44e-4817-a5fe-8b7b42c0e888",
   "metadata": {},
   "outputs": [],
   "source": []
  },
  {
   "cell_type": "code",
   "execution_count": null,
   "id": "526c2341-98cb-47fe-90ad-edaded93c263",
   "metadata": {},
   "outputs": [],
   "source": []
  },
  {
   "cell_type": "code",
   "execution_count": null,
   "id": "786c8edd-bdb6-4a62-96d6-027276d06e5d",
   "metadata": {},
   "outputs": [],
   "source": []
  },
  {
   "cell_type": "code",
   "execution_count": null,
   "id": "bd38a1f4-8e07-491e-b70c-1c2995122db5",
   "metadata": {},
   "outputs": [],
   "source": []
  },
  {
   "cell_type": "code",
   "execution_count": null,
   "id": "02db23c0-bede-4152-9913-0ba5757f648a",
   "metadata": {},
   "outputs": [],
   "source": []
  }
 ],
 "metadata": {
  "kernelspec": {
   "display_name": "Python 3 (ipykernel)",
   "language": "python",
   "name": "python3"
  },
  "language_info": {
   "codemirror_mode": {
    "name": "ipython",
    "version": 3
   },
   "file_extension": ".py",
   "mimetype": "text/x-python",
   "name": "python",
   "nbconvert_exporter": "python",
   "pygments_lexer": "ipython3",
   "version": "3.11.5"
  }
 },
 "nbformat": 4,
 "nbformat_minor": 5
}
